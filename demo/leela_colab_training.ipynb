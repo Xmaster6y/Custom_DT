{
 "nbformat": 4,
 "nbformat_minor": 0,
 "metadata": {
  "colab": {
   "provenance": [],
   "gpuType": "T4"
  },
  "kernelspec": {
   "name": "",
   "display_name": ""
  },
  "language_info": {
   "name": "python"
  },
  "accelerator": "GPU"
 },
 "cells": [
  {
   "cell_type": "markdown",
   "source": [
    "# Leela colab Training"
   ],
   "metadata": {
    "id": "44Abc-UkiaSu"
   }
  },
  {
   "cell_type": "markdown",
   "source": [
    "## Setup"
   ],
   "metadata": {
    "id": "qUnQ9BCEieDZ"
   }
  },
  {
   "cell_type": "markdown",
   "source": [
    "### Installs"
   ],
   "metadata": {
    "id": "IJe7RK05i2kw"
   }
  },
  {
   "cell_type": "code",
   "source": [
    "!pip install poetry\n",
    "!poetry config virtualenvs.in-project true"
   ],
   "metadata": {
    "colab": {
     "base_uri": "https://localhost:8080/"
    },
    "id": "0pSw1agbjV8y",
    "outputId": "7dfcd557-b834-4528-ea34-af1f4e7e0c35"
   },
   "execution_count": null,
   "outputs": []
  },
  {
   "cell_type": "code",
   "execution_count": null,
   "metadata": {
    "colab": {
     "base_uri": "https://localhost:8080/"
    },
    "id": "lECKEFAMiQwC",
    "outputId": "279f8803-4814-4e8e-ab57-e1a9bc3201db"
   },
   "outputs": [],
   "source": [
    "%%bash\n",
    "if [ ! -d Custom_DT ]; then\n",
    "    git clone -b training https://github.com/Xmaster6y/Custom_DT\n",
    "fi\n",
    "cd Custom_DT\n",
    "poetry install"
   ]
  },
  {
   "cell_type": "code",
   "source": [
    "%%bash\n",
    "cd Custom_DT\n",
    "STOCKFISH_GDRIVE_ID=\"1rvY0PXnB1hLmLQF_PE7gSieZYQMwS_PA\"\n",
    "mkdir -p stockfish-source/stockfish\n",
    "curl -L -o \"stockfish-source/stockfish/stockfish_src\" \"https://drive.google.com/uc?export=download&id=${STOCKFISH_GDRIVE_ID}\"\n",
    "chmod +x stockfish-source/stockfish/stockfish_src"
   ],
   "metadata": {
    "colab": {
     "base_uri": "https://localhost:8080/"
    },
    "id": "IwmObq8vmBw0",
    "outputId": "54d79a91-b77f-438e-8f2f-5fe012bd19e7"
   },
   "execution_count": null,
   "outputs": []
  },
  {
   "cell_type": "code",
   "source": [
    "%%bash\n",
    "cd Custom_DT/data\n",
    "if [ ! -d chess_games_base ]; then\n",
    "    git clone https://huggingface.co/datasets/BlueSunflower/chess_games_base\n",
    "fi\n",
    "cd chess_games_base\n",
    "tar -xvf data_stockfish_262k.tar.gz\n",
    "mv test_stockfish_5000.json test_stockfish_5000.jsonl\n",
    "mv train_stockfish_262k.json train_stockfish_262k.jsonl"
   ],
   "metadata": {
    "colab": {
     "base_uri": "https://localhost:8080/"
    },
    "id": "qGrtBu9Jm4Ix",
    "outputId": "6ad7163a-a778-4a56-9816-7fab7426ea08"
   },
   "execution_count": null,
   "outputs": []
  },
  {
   "cell_type": "markdown",
   "source": [
    "## Run training"
   ],
   "metadata": {
    "id": "fmaY77Yijvch"
   }
  },
  {
   "cell_type": "code",
   "source": [
    "!cd Custom_DT && poetry run python -m src.train.leela --training --no-debug \\\n",
    "    --stockfish-eval-depth=1 --use-stockfish-eval \\\n",
    "    --layers=4"
   ],
   "metadata": {
    "colab": {
     "base_uri": "https://localhost:8080/"
    },
    "id": "qlUbkt-ci1ww",
    "outputId": "30e4ed5a-3719-409d-8b0a-dc49ed4c47cd"
   },
   "execution_count": null,
   "outputs": []
  },
  {
   "cell_type": "code",
   "source": [
    "!rm -r Custom_DT"
   ],
   "metadata": {
    "id": "natXXNzCqTlp"
   },
   "execution_count": null,
   "outputs": []
  }
 ]
}
